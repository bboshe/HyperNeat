{
 "cells": [
  {
   "cell_type": "code",
   "execution_count": 1,
   "metadata": {},
   "outputs": [],
   "source": [
    "%matplotlib inline\n",
    "\n",
    "import os\n",
    "import numpy as np\n",
    "\n",
    "import gym\n",
    "import neat\n",
    "import cv2\n",
    "\n",
    "import utils.PyPlotReporter\n",
    "import utils.PyPlotReporter\n",
    "import utils.CSVReporter\n",
    "from utils.EnvEvaluator import EnvEvaluator\n",
    "from utils.Atari import CONTROLLER_TO_ACTION,CONTROLLER_TO_ACTION_SHORT, CONTROLLER_TO_ACTION_FORCE"
   ]
  },
  {
   "cell_type": "code",
   "execution_count": 2,
   "metadata": {},
   "outputs": [],
   "source": [
    "resize = (16,21)\n",
    "\n",
    "class CartPoleEnvEvaluator(EnvEvaluator):\n",
    "    \n",
    "    def make_net(self, genome, config): \n",
    "        return neat.nn.FeedForwardNetwork.create(genome, config)\n",
    "        \n",
    "    def activate_net(self, net, observation): \n",
    "        g1 = np.all((observation == [110, 156, 66]), axis=-1)\n",
    "        g2 = np.all((observation == [53, 95, 24]), axis=-1)\n",
    "        grass = np.logical_or(g1, g2).astype(np.float32)\n",
    "        grass = cv2.resize(grass,dsize=resize, interpolation=cv2.INTER_AREA)\n",
    "        ship = np.all((observation == [232,232,74]), axis=-1).astype(np.float32)\n",
    "        ship = cv2.resize(ship,dsize=resize, interpolation=cv2.INTER_AREA)\n",
    "        \n",
    "        input_ =  np.concatenate((grass.flatten(),  ship.flatten()))\n",
    "        out = tuple(np.array(net.activate(input_)) > 0.5)\n",
    "        action = CONTROLLER_TO_ACTION_FORCE[out]\n",
    "        \n",
    "        return action \n",
    "\n",
    "evaluator = CartPoleEnvEvaluator(\"Riverraid-v0\", 5000, n_workers=8, n_batches=1, seed=[1111,2222])"
   ]
  },
  {
   "cell_type": "code",
   "execution_count": 9,
   "metadata": {},
   "outputs": [],
   "source": [
    "\n",
    "config_path = \"./configs/neatatari.cfg\" \n",
    "\n",
    "config = neat.Config(\n",
    "    neat.DefaultGenome,\n",
    "    neat.DefaultReproduction,\n",
    "    neat.DefaultSpeciesSet,\n",
    "    neat.DefaultStagnation,\n",
    "    config_path,\n",
    ")\n",
    "\n",
    "\n",
    "pop = neat.Population(config)\n",
    "pop.add_reporter(utils.CSVReporter.CSVReporter(\"saves/neat_prog.csv\"))\n",
    "pop.add_reporter(neat.Checkpointer(1, None, \"saves/cp_neat_rr\"))\n",
    "pop.add_reporter(utils.PyPlotReporter.PyPlotReporter())\n",
    "\n"
   ]
  },
  {
   "cell_type": "code",
   "execution_count": null,
   "metadata": {},
   "outputs": [],
   "source": [
    "gnome = pop.run(evaluator.eval_all_genomes, 10)"
   ]
  },
  {
   "cell_type": "code",
   "execution_count": null,
   "metadata": {},
   "outputs": [],
   "source": [
    "from IPython.display import clear_output\n",
    "import pickle\n",
    "import gzip\n",
    "\n",
    "location = \"saves2/\"\n",
    "\n",
    "for i in range(5):\n",
    "    clear_output(wait=True)\n",
    "    pop = neat.Population(config)\n",
    "    pop.add_reporter(utils.CSVReporter.CSVReporter(location + f\"/lc_{i}.csv\"))\n",
    "    \n",
    "    try: \n",
    "        gnome = pop.run(evaluator.eval_all_genomes, 100000)\n",
    "    except neat.CompleteExtinctionException as e:\n",
    "        gnome = pop.best_genome\n",
    "    \n",
    "    create_video(evaluator, gnome, config, fps=60, fout=location+f\"vis_{int(gnome.fitness)}_{i}.mp4\")\n",
    "    with gzip.open(location+f\"cp_{i}.cp\", 'w', compresslevel=5) as f:\n",
    "          pickle.dump((gnome, config), f, protocol=pickle.HIGHEST_PROTOCOL)\n",
    "    "
   ]
  },
  {
   "cell_type": "markdown",
   "metadata": {},
   "source": [
    "## Visualization"
   ]
  },
  {
   "cell_type": "code",
   "execution_count": 15,
   "metadata": {},
   "outputs": [],
   "source": [
    "evaluator.show(gnome, config, delay=0.005, random=False, i_seed=0)"
   ]
  },
  {
   "cell_type": "code",
   "execution_count": 8,
   "metadata": {},
   "outputs": [],
   "source": [
    "evaluator.create_video(evaluator,gnome, config, fps=99, fout=\"f.mp4\")"
   ]
  },
  {
   "cell_type": "code",
   "execution_count": null,
   "metadata": {},
   "outputs": [],
   "source": []
  }
 ],
 "metadata": {
  "kernelspec": {
   "display_name": "Python 3",
   "language": "python",
   "name": "python3"
  },
  "language_info": {
   "codemirror_mode": {
    "name": "ipython",
    "version": 3
   },
   "file_extension": ".py",
   "mimetype": "text/x-python",
   "name": "python",
   "nbconvert_exporter": "python",
   "pygments_lexer": "ipython3",
   "version": "3.7.4"
  }
 },
 "nbformat": 4,
 "nbformat_minor": 4
}
