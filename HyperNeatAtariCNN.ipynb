{
 "cells": [
  {
   "cell_type": "code",
   "execution_count": 1,
   "metadata": {},
   "outputs": [],
   "source": [
    "%matplotlib inline\n",
    "\n",
    "import os\n",
    "import pickle\n",
    "import numpy as np\n",
    "\n",
    "import gym\n",
    "import neat\n",
    "import cv2\n",
    "\n",
    "import utils.PyPlotReporter\n",
    "import utils.CSVReporter\n",
    "from utils.EnvEvaluator import * \n",
    "from utils.CPPNPythonNeat import PythonNeatCPPN\n",
    "from utils.CPPNPyTorch import PyTorchCPPN\n",
    "from utils.SubstrateCNN import *\n",
    "from utils.Profiling import get_exec_times_pd, profile_section\n",
    "from utils.Atari import CONTROLLER_TO_ACTION,CONTROLLER_TO_ACTION_SHORT, CONTROLLER_TO_ACTION_FORCE\n",
    "import torchvision.transforms as transforms\n"
   ]
  },
  {
   "cell_type": "code",
   "execution_count": 2,
   "metadata": {},
   "outputs": [],
   "source": [
    "class MyEvaluator(HyperNeatEnvEvaluator):\n",
    "\n",
    "    def make_cppn(self, genome: DefaultGenome, config: Config):\n",
    "   #     return PythonNeatCPPN(genome, config)\n",
    "        return PyTorchCPPN(genome, config, batch_size=64)\n",
    "\n",
    "    def make_substrate(self):\n",
    "        return SubstrateCNN(nn.Sequential(\n",
    "            nn.Conv2d(3, 16, 3),\n",
    "            nn.Sigmoid(),\n",
    "            nn.MaxPool2d(2, 2),\n",
    "            nn.Conv2d(16, 16, 3),\n",
    "            nn.Sigmoid(),\n",
    "            nn.MaxPool2d(2, 2),\n",
    "            nn.Conv2d(16, 16, 3),\n",
    "            nn.Sigmoid(),\n",
    "            nn.MaxPool2d(2, 2),\n",
    "            nn.Conv2d(16, 128, (3, 2)),\n",
    "            nn.Sigmoid(),\n",
    "            nn.Conv2d(128, 3, 1),\n",
    "            nn.Sigmoid(),\n",
    "        ))\n",
    "\n",
    "    def preproc_img(self, observation):\n",
    "        process = transforms.Compose([\n",
    "            transforms.ToTensor(),\n",
    "            transforms.Normalize((0.5, 0.5, 0.5), (0.5, 0.5, 0.5))\n",
    "        ])\n",
    "       # grey = cv2.cvtColor(observation, cv2.COLOR_RGB2GRAY)\n",
    "        small = cv2.resize(observation, dsize=(32, 42), interpolation=cv2.INTER_AREA)\n",
    "        return process(small).unsqueeze(0)\n",
    "\n",
    "    def activate_net(self, sub, observation):\n",
    "        with profile_section(\"preproc\"):\n",
    "            grey = self.preproc_img(observation)\n",
    "        with profile_section(\"sub_forward\"):\n",
    "            activation = sub.forward(grey)[0,:,0,0].numpy()\n",
    "        out = tuple(activation > .5)\n",
    "        action = CONTROLLER_TO_ACTION_FORCE[out]\n",
    "        return action\n",
    "    \n",
    "evaluator = MyEvaluator(\"Riverraid-v0\", 2000, n_workers=1, seed=1111)"
   ]
  },
  {
   "cell_type": "code",
   "execution_count": 3,
   "metadata": {},
   "outputs": [
    {
     "data": {
      "text/plain": [
       "[448, 0, 0, 2320, 0, 0, 2320, 0, 0, 12416, 0, 387, 0]"
      ]
     },
     "execution_count": 3,
     "metadata": {},
     "output_type": "execute_result"
    }
   ],
   "source": [
    "evaluator.make_substrate().count_params()"
   ]
  },
  {
   "cell_type": "code",
   "execution_count": 4,
   "metadata": {},
   "outputs": [],
   "source": [
    "config_path = \"./configs/hyperataricnn.cfg\" \n",
    "\n",
    "config = neat.Config(\n",
    "    neat.DefaultGenome,\n",
    "    neat.DefaultReproduction,\n",
    "    neat.DefaultSpeciesSet,\n",
    "    neat.DefaultStagnation,\n",
    "    config_path,\n",
    ")"
   ]
  },
  {
   "cell_type": "code",
   "execution_count": 5,
   "metadata": {},
   "outputs": [],
   "source": [
    "pop = neat.Population(config)\n",
    "pop.add_reporter(utils.CSVReporter.CSVReporter(\"saves/progress.csv\"))\n",
    "pop.add_reporter(utils.PyPlotReporter.PyPlotReporter())\n",
    "pop.add_reporter(neat.Checkpointer(1, None, \"saves/cp_atari_6_\"))"
   ]
  },
  {
   "cell_type": "code",
   "execution_count": null,
   "metadata": {},
   "outputs": [],
   "source": [
    "gnome = pop.run(evaluator.eval_all_genomes, 100)"
   ]
  },
  {
   "cell_type": "code",
   "execution_count": null,
   "metadata": {},
   "outputs": [],
   "source": []
  },
  {
   "cell_type": "code",
   "execution_count": 8,
   "metadata": {},
   "outputs": [
    {
     "data": {
      "text/html": [
       "<div>\n",
       "<style scoped>\n",
       "    .dataframe tbody tr th:only-of-type {\n",
       "        vertical-align: middle;\n",
       "    }\n",
       "\n",
       "    .dataframe tbody tr th {\n",
       "        vertical-align: top;\n",
       "    }\n",
       "\n",
       "    .dataframe thead th {\n",
       "        text-align: right;\n",
       "    }\n",
       "</style>\n",
       "<table border=\"1\" class=\"dataframe\">\n",
       "  <thead>\n",
       "    <tr style=\"text-align: right;\">\n",
       "      <th></th>\n",
       "      <th>name</th>\n",
       "      <th>avg_time</th>\n",
       "      <th>total_time</th>\n",
       "      <th>N</th>\n",
       "    </tr>\n",
       "  </thead>\n",
       "  <tbody>\n",
       "    <tr>\n",
       "      <td>0</td>\n",
       "      <td>make_cppn</td>\n",
       "      <td>0.000353</td>\n",
       "      <td>0.004947</td>\n",
       "      <td>14</td>\n",
       "    </tr>\n",
       "    <tr>\n",
       "      <td>1</td>\n",
       "      <td>make_substrate</td>\n",
       "      <td>0.000762</td>\n",
       "      <td>0.010673</td>\n",
       "      <td>14</td>\n",
       "    </tr>\n",
       "    <tr>\n",
       "      <td>2</td>\n",
       "      <td>get_weights</td>\n",
       "      <td>0.007479</td>\n",
       "      <td>0.523529</td>\n",
       "      <td>70</td>\n",
       "    </tr>\n",
       "    <tr>\n",
       "      <td>3</td>\n",
       "      <td>get_biases</td>\n",
       "      <td>0.000217</td>\n",
       "      <td>0.015163</td>\n",
       "      <td>70</td>\n",
       "    </tr>\n",
       "    <tr>\n",
       "      <td>4</td>\n",
       "      <td>make_net</td>\n",
       "      <td>0.040638</td>\n",
       "      <td>0.568930</td>\n",
       "      <td>14</td>\n",
       "    </tr>\n",
       "    <tr>\n",
       "      <td>5</td>\n",
       "      <td>env_make</td>\n",
       "      <td>0.016598</td>\n",
       "      <td>0.232376</td>\n",
       "      <td>14</td>\n",
       "    </tr>\n",
       "    <tr>\n",
       "      <td>6</td>\n",
       "      <td>preproc</td>\n",
       "      <td>0.000135</td>\n",
       "      <td>0.520739</td>\n",
       "      <td>3864</td>\n",
       "    </tr>\n",
       "    <tr>\n",
       "      <td>7</td>\n",
       "      <td>sub_forward</td>\n",
       "      <td>0.000464</td>\n",
       "      <td>1.793890</td>\n",
       "      <td>3864</td>\n",
       "    </tr>\n",
       "    <tr>\n",
       "      <td>8</td>\n",
       "      <td>env_step</td>\n",
       "      <td>0.000489</td>\n",
       "      <td>1.890030</td>\n",
       "      <td>3864</td>\n",
       "    </tr>\n",
       "  </tbody>\n",
       "</table>\n",
       "</div>"
      ],
      "text/plain": [
       "             name  avg_time  total_time     N\n",
       "0       make_cppn  0.000353    0.004947    14\n",
       "1  make_substrate  0.000762    0.010673    14\n",
       "2     get_weights  0.007479    0.523529    70\n",
       "3      get_biases  0.000217    0.015163    70\n",
       "4        make_net  0.040638    0.568930    14\n",
       "5        env_make  0.016598    0.232376    14\n",
       "6         preproc  0.000135    0.520739  3864\n",
       "7     sub_forward  0.000464    1.793890  3864\n",
       "8        env_step  0.000489    1.890030  3864"
      ]
     },
     "execution_count": 8,
     "metadata": {},
     "output_type": "execute_result"
    }
   ],
   "source": [
    "get_exec_times_pd()"
   ]
  },
  {
   "cell_type": "code",
   "execution_count": null,
   "metadata": {},
   "outputs": [],
   "source": [
    "name \t        avg_time \ttotal_time \tN\n",
    "# NeatPython ~17000 weights\n",
    "get_weights \t0.970316 \t24.257888 \t25\n",
    "# Pytorch \n",
    "get_weights \t0.008045 \t0.201118 \t25\n"
   ]
  },
  {
   "cell_type": "code",
   "execution_count": null,
   "metadata": {},
   "outputs": [],
   "source": []
  }
 ],
 "metadata": {
  "kernelspec": {
   "display_name": "Python 3",
   "language": "python",
   "name": "python3"
  },
  "language_info": {
   "codemirror_mode": {
    "name": "ipython",
    "version": 3
   },
   "file_extension": ".py",
   "mimetype": "text/x-python",
   "name": "python",
   "nbconvert_exporter": "python",
   "pygments_lexer": "ipython3",
   "version": "3.7.4"
  }
 },
 "nbformat": 4,
 "nbformat_minor": 4
}
