{
 "cells": [
  {
   "cell_type": "code",
   "execution_count": 1,
   "metadata": {},
   "outputs": [
    {
     "name": "stderr",
     "output_type": "stream",
     "text": [
      "Using TensorFlow backend.\n"
     ]
    }
   ],
   "source": [
    "%matplotlib inline\n",
    "\n",
    "import os\n",
    "import pickle\n",
    "import numpy as np\n",
    "\n",
    "import gym\n",
    "import neat\n",
    "import cv2\n",
    "\n",
    "import utils.PyPlotReporter\n",
    "import utils.CSVReporter\n",
    "import utils.SubstrateNet as Substrate\n",
    "from utils.EnvEvaluator import * \n",
    "from utils.SubstrateNet import GridMappingBounds, DirectMapping\n",
    "from utils.Profiling import get_exec_times_pd\n",
    "from utils.Atari import CONTROLLER_TO_ACTION,CONTROLLER_TO_ACTION_SHORT, CONTROLLER_TO_ACTION_FORCE"
   ]
  },
  {
   "cell_type": "code",
   "execution_count": 2,
   "metadata": {},
   "outputs": [],
   "source": [
    "class HyperNeatEnvEvaluator(HyperNeatEnvEvaluator):\n",
    "    \n",
    "    def make_substrate(self):\n",
    "        sub = Substrate.Sequential(min_abs_weight=0.1,bias=True)\n",
    "        sub.input(Substrate.Input(GridMappingBounds((42,32), 0, range_x=(-1,1), range_y=(-1, 1))))\n",
    "       # sub.add(Substrate.Dense(GridMappingBounds((21,16), 1, range_x=(-0.5,0.5), range_y=(-0.5, 0.5))))\n",
    "        #                       output coords: FIRE , UP      , RIGHT, LEFT     , DOWN    , z-coord       \n",
    "        sub.add(Substrate.Dense(DirectMapping([(1,0), (-0.5,1), (0,0), (-1, 0), (-0.5,-1)], 1)))\n",
    "        sub.compile()\n",
    "        return sub\n",
    "\n",
    "    def preproc_img(self, observation):\n",
    "        grey = cv2.cvtColor(observation, cv2.COLOR_RGB2GRAY)\n",
    "        grey = cv2.resize(grey,dsize=(32,42), interpolation=cv2.INTER_AREA) \n",
    "       # grey = (grey - np.mean(grey)) / np.std(grey) \n",
    "        grey = grey / 255\n",
    "        return grey\n",
    "    \n",
    "    def activate_net(self, sub, observation): \n",
    "        grey = self.preproc_img(observation)\n",
    "        activation = sub.activate(grey)[0]\n",
    "        out = tuple(activation > .5)\n",
    "        action = CONTROLLER_TO_ACTION[out]\n",
    "        return action\n",
    "\n",
    "evaluator = HyperNeatEnvEvaluator(\"Riverraid-v0\", 2000, n_workers=8, seed=[1111])"
   ]
  },
  {
   "cell_type": "code",
   "execution_count": 3,
   "metadata": {},
   "outputs": [],
   "source": [
    "\n",
    "config_path = \"./configs/hyperatari-Copy1.cfg\" \n",
    "\n",
    "config = neat.Config(\n",
    "    neat.DefaultGenome,\n",
    "    neat.DefaultReproduction,\n",
    "    neat.DefaultSpeciesSet,\n",
    "    neat.DefaultStagnation,\n",
    "    config_path,\n",
    ")\n",
    "\n",
    "\n",
    "pop = neat.Population(config)\n",
    "pop.add_reporter(utils.CSVReporter.CSVReporter(\"saves/progress.csv\"))\n",
    "pop.add_reporter(utils.PyPlotReporter.PyPlotReporter())\n",
    "pop.add_reporter(neat.Checkpointer(1, None, \"saves/cp_atari_6_\"))"
   ]
  },
  {
   "cell_type": "code",
   "execution_count": null,
   "metadata": {},
   "outputs": [],
   "source": [
    "gnome = pop.run(evaluator.eval_all_genomes, 10)"
   ]
  },
  {
   "cell_type": "code",
   "execution_count": null,
   "metadata": {},
   "outputs": [],
   "source": []
  },
  {
   "cell_type": "code",
   "execution_count": 9,
   "metadata": {},
   "outputs": [
    {
     "data": {
      "text/html": [
       "<div>\n",
       "<style scoped>\n",
       "    .dataframe tbody tr th:only-of-type {\n",
       "        vertical-align: middle;\n",
       "    }\n",
       "\n",
       "    .dataframe tbody tr th {\n",
       "        vertical-align: top;\n",
       "    }\n",
       "\n",
       "    .dataframe thead th {\n",
       "        text-align: right;\n",
       "    }\n",
       "</style>\n",
       "<table border=\"1\" class=\"dataframe\">\n",
       "  <thead>\n",
       "    <tr style=\"text-align: right;\">\n",
       "      <th></th>\n",
       "      <th>name</th>\n",
       "      <th>avg_time</th>\n",
       "      <th>total_time</th>\n",
       "      <th>N</th>\n",
       "    </tr>\n",
       "  </thead>\n",
       "  <tbody>\n",
       "    <tr>\n",
       "      <td>0</td>\n",
       "      <td>cppn_get_weights</td>\n",
       "      <td>0.034380</td>\n",
       "      <td>3.437980</td>\n",
       "      <td>100</td>\n",
       "    </tr>\n",
       "    <tr>\n",
       "      <td>1</td>\n",
       "      <td>make_cppn</td>\n",
       "      <td>0.035043</td>\n",
       "      <td>3.504271</td>\n",
       "      <td>100</td>\n",
       "    </tr>\n",
       "    <tr>\n",
       "      <td>2</td>\n",
       "      <td>env_make</td>\n",
       "      <td>0.119259</td>\n",
       "      <td>11.925913</td>\n",
       "      <td>100</td>\n",
       "    </tr>\n",
       "    <tr>\n",
       "      <td>3</td>\n",
       "      <td>substrat_forward</td>\n",
       "      <td>0.000234</td>\n",
       "      <td>110.026834</td>\n",
       "      <td>469682</td>\n",
       "    </tr>\n",
       "    <tr>\n",
       "      <td>4</td>\n",
       "      <td>env_step</td>\n",
       "      <td>0.000384</td>\n",
       "      <td>180.440072</td>\n",
       "      <td>469682</td>\n",
       "    </tr>\n",
       "  </tbody>\n",
       "</table>\n",
       "</div>"
      ],
      "text/plain": [
       "               name  avg_time  total_time       N\n",
       "0  cppn_get_weights  0.034380    3.437980     100\n",
       "1         make_cppn  0.035043    3.504271     100\n",
       "2          env_make  0.119259   11.925913     100\n",
       "3  substrat_forward  0.000234  110.026834  469682\n",
       "4          env_step  0.000384  180.440072  469682"
      ]
     },
     "execution_count": 9,
     "metadata": {},
     "output_type": "execute_result"
    }
   ],
   "source": [
    "# 6720 parameters , max 1000 steps, cppn: 6 paramters"
   ]
  },
  {
   "cell_type": "code",
   "execution_count": 6,
   "metadata": {},
   "outputs": [
    {
     "data": {
      "text/html": [
       "<div>\n",
       "<style scoped>\n",
       "    .dataframe tbody tr th:only-of-type {\n",
       "        vertical-align: middle;\n",
       "    }\n",
       "\n",
       "    .dataframe tbody tr th {\n",
       "        vertical-align: top;\n",
       "    }\n",
       "\n",
       "    .dataframe thead th {\n",
       "        text-align: right;\n",
       "    }\n",
       "</style>\n",
       "<table border=\"1\" class=\"dataframe\">\n",
       "  <thead>\n",
       "    <tr style=\"text-align: right;\">\n",
       "      <th></th>\n",
       "      <th>name</th>\n",
       "      <th>avg_time</th>\n",
       "      <th>total_time</th>\n",
       "      <th>N</th>\n",
       "    </tr>\n",
       "  </thead>\n",
       "  <tbody>\n",
       "    <tr>\n",
       "      <td>0</td>\n",
       "      <td>cppn_get_weights</td>\n",
       "      <td>3.084405</td>\n",
       "      <td>616.880991</td>\n",
       "      <td>200</td>\n",
       "    </tr>\n",
       "    <tr>\n",
       "      <td>1</td>\n",
       "      <td>make_cppn</td>\n",
       "      <td>6.177024</td>\n",
       "      <td>617.702438</td>\n",
       "      <td>100</td>\n",
       "    </tr>\n",
       "    <tr>\n",
       "      <td>2</td>\n",
       "      <td>env_make</td>\n",
       "      <td>0.118273</td>\n",
       "      <td>11.827256</td>\n",
       "      <td>100</td>\n",
       "    </tr>\n",
       "    <tr>\n",
       "      <td>3</td>\n",
       "      <td>substrat_forward</td>\n",
       "      <td>0.000300</td>\n",
       "      <td>55.337264</td>\n",
       "      <td>184542</td>\n",
       "    </tr>\n",
       "    <tr>\n",
       "      <td>4</td>\n",
       "      <td>env_step</td>\n",
       "      <td>0.000397</td>\n",
       "      <td>73.203334</td>\n",
       "      <td>184542</td>\n",
       "    </tr>\n",
       "  </tbody>\n",
       "</table>\n",
       "</div>"
      ],
      "text/plain": [
       "               name  avg_time  total_time       N\n",
       "0  cppn_get_weights  3.084405  616.880991     200\n",
       "1         make_cppn  6.177024  617.702438     100\n",
       "2          env_make  0.118273   11.827256     100\n",
       "3  substrat_forward  0.000300   55.337264  184542\n",
       "4          env_step  0.000397   73.203334  184542"
      ]
     },
     "execution_count": 6,
     "metadata": {},
     "output_type": "execute_result"
    }
   ],
   "source": [
    "# 453264 parameters, max 10 setps"
   ]
  },
  {
   "cell_type": "markdown",
   "metadata": {},
   "source": [
    "## Visualization"
   ]
  },
  {
   "cell_type": "code",
   "execution_count": 5,
   "metadata": {},
   "outputs": [],
   "source": [
    "evaluator.show(gnome, config, delay=0.01, random=True)"
   ]
  },
  {
   "cell_type": "code",
   "execution_count": null,
   "metadata": {},
   "outputs": [],
   "source": [
    "evaluator.create_video(evaluator,gnome, config, fps=60, fout=\"f.mp4\")"
   ]
  },
  {
   "cell_type": "code",
   "execution_count": null,
   "metadata": {},
   "outputs": [],
   "source": []
  }
 ],
 "metadata": {
  "kernelspec": {
   "display_name": "Python 3",
   "language": "python",
   "name": "python3"
  },
  "language_info": {
   "codemirror_mode": {
    "name": "ipython",
    "version": 3
   },
   "file_extension": ".py",
   "mimetype": "text/x-python",
   "name": "python",
   "nbconvert_exporter": "python",
   "pygments_lexer": "ipython3",
   "version": "3.7.4"
  }
 },
 "nbformat": 4,
 "nbformat_minor": 4
}
